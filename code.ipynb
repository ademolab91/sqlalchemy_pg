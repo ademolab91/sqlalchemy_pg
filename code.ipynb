{
 "cells": [
  {
   "cell_type": "markdown",
   "metadata": {},
   "source": [
    "Check that the version of sqlalchemy is 2.0.0 or above"
   ]
  },
  {
   "cell_type": "code",
   "execution_count": 1,
   "metadata": {},
   "outputs": [
    {
     "name": "stdout",
     "output_type": "stream",
     "text": [
      "2.0.23\n"
     ]
    }
   ],
   "source": [
    "import sqlalchemy\n",
    "print(sqlalchemy.__version__)"
   ]
  },
  {
   "cell_type": "markdown",
   "metadata": {},
   "source": [
    "The first most important thing is the engine. The engine allows you to connect to the database you intend to use. The sole purpose of the engine object is to provide a unit of connectivity to the database called `Connection`.\n",
    "\n",
    "The argument `echo` is a directive that tells the engine to log all DB interactions explicitly on the logger"
   ]
  },
  {
   "cell_type": "code",
   "execution_count": 1,
   "metadata": {},
   "outputs": [
    {
     "name": "stdout",
     "output_type": "stream",
     "text": [
      "Engine(sqlite+pysqlite:///:memory:)\n"
     ]
    }
   ],
   "source": [
    "from sqlalchemy import create_engine\n",
    "from sqlalchemy.engine import Engine\n",
    "engine: Engine = create_engine(\"sqlite+pysqlite:///:memory:\", echo=True)\n",
    "print(engine)"
   ]
  },
  {
   "cell_type": "markdown",
   "metadata": {},
   "source": [
    "# Working with transactions and the DBAPI"
   ]
  },
  {
   "cell_type": "markdown",
   "metadata": {},
   "source": [
    "## Getting a connection"
   ]
  },
  {
   "cell_type": "code",
   "execution_count": 2,
   "metadata": {},
   "outputs": [
    {
     "name": "stdout",
     "output_type": "stream",
     "text": [
      "2023-12-21 06:32:02,329 INFO sqlalchemy.engine.Engine BEGIN (implicit)\n",
      "2023-12-21 06:32:02,332 INFO sqlalchemy.engine.Engine select 'Hello World!'\n",
      "2023-12-21 06:32:02,335 INFO sqlalchemy.engine.Engine [generated in 0.00614s] ()\n",
      "[('Hello World!',)]\n",
      "2023-12-21 06:32:02,339 INFO sqlalchemy.engine.Engine ROLLBACK\n"
     ]
    }
   ],
   "source": [
    "from sqlalchemy import text\n",
    "\n",
    "with engine.connect() as conn:\n",
    "    result = conn.execute(text(\"select 'Hello World!'\"))\n",
    "    print(result.all())"
   ]
  },
  {
   "cell_type": "markdown",
   "metadata": {},
   "source": [
    "## Committing changes"
   ]
  },
  {
   "cell_type": "code",
   "execution_count": 3,
   "metadata": {},
   "outputs": [
    {
     "name": "stdout",
     "output_type": "stream",
     "text": [
      "2023-12-21 06:32:09,251 INFO sqlalchemy.engine.Engine BEGIN (implicit)\n",
      "2023-12-21 06:32:09,261 INFO sqlalchemy.engine.Engine CREATE TABLE some_table (x int, y int)\n",
      "2023-12-21 06:32:09,263 INFO sqlalchemy.engine.Engine [generated in 0.01222s] ()\n",
      "2023-12-21 06:32:09,267 INFO sqlalchemy.engine.Engine INSERT INTO some_table (x, y) VALUES (?, ?)\n",
      "2023-12-21 06:32:09,269 INFO sqlalchemy.engine.Engine [generated in 0.00248s] [(1, 1), (2, 4)]\n",
      "2023-12-21 06:32:09,275 INFO sqlalchemy.engine.Engine COMMIT\n"
     ]
    }
   ],
   "source": [
    "with engine.connect() as conn:\n",
    "    conn.execute(text(\"CREATE TABLE some_table (x int, y int)\"))\n",
    "    conn.execute(\n",
    "        text(\"INSERT INTO some_table (x, y) VALUES (:x, :y)\"),\n",
    "        [{\"x\": 1, \"y\": 1}, {\"x\": 2, \"y\": 4}]\n",
    "    )\n",
    "    conn.commit()"
   ]
  }
 ],
 "metadata": {
  "kernelspec": {
   "display_name": "sqlalchemy-pg-4qeCgU2t-py3.10",
   "language": "python",
   "name": "python3"
  },
  "language_info": {
   "codemirror_mode": {
    "name": "ipython",
    "version": 3
   },
   "file_extension": ".py",
   "mimetype": "text/x-python",
   "name": "python",
   "nbconvert_exporter": "python",
   "pygments_lexer": "ipython3",
   "version": "3.10.12"
  }
 },
 "nbformat": 4,
 "nbformat_minor": 2
}
